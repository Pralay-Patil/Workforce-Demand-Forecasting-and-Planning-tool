import pandas as pd
import numpy as np
import matplotlib.pyplot as plt
from statsmodels.tsa.arima.model import ARIMA
from prophet import Prophet
import joblib

# Load dataset
data = pd.read_csv('data/demand_data.csv', parse_dates=['date'], index_col='date')

# Plot demand data
data['demand'].plot(figsize=(12, 6), title='Customer Support Demand')
plt.show()

# ARIMA Model
arima_model = ARIMA(data['demand'], order=(5,1,0))
arima_result = arima_model.fit()
print(arima_result.summary())
joblib.dump(arima_result, 'models/arima_model.pkl')

# Prophet Model
data_prophet = data.reset_index().rename(columns={'date': 'ds', 'demand': 'y'})
prophet_model = Prophet()
prophet_model.fit(data_prophet)
future = prophet_model.make_future_dataframe(periods=30)
forecast = prophet_model.predict(future)
prophet_model.plot(forecast)
plt.show()
joblib.dump(prophet_model, 'models/prophet_model.pkl')

print("Forecasting models trained and saved successfully.")
